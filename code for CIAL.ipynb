{
 "cells": [
  {
   "cell_type": "code",
   "execution_count": null,
   "id": "c5f6a781-91d7-47b1-9452-e7db2e59f323",
   "metadata": {},
   "outputs": [],
   "source": [
    "import numpy as np\n",
    "import pandas as pd\n",
    "from sklearn.model_selection import LeaveOneOut\n",
    "import matplotlib.pyplot as plt\n",
    "import seaborn as sb  \n",
    "from sklearn.preprocessing import PolynomialFeatures\n",
    "from sklearn.model_selection import train_test_split  \n",
    "from sklearn.metrics import mean_squared_error,r2_score,mean_absolute_error\n",
    "from sklearn.ensemble import GradientBoostingRegressor\n",
    "from sklearn.preprocessing  import StandardScaler\n",
    "import joblib\n",
    "import warnings\n",
    "from pymoo.core.problem import ElementwiseProblem\n",
    "from pymoo.algorithms.moo.nsga3 import NSGA3\n",
    "from pymoo.operators.crossover.sbx import SBX\n",
    "from pymoo.operators.mutation.pm import PM\n",
    "from pymoo.operators.sampling.rnd import FloatRandomSampling\n",
    "from pymoo.termination import get_termination\n",
    "from pymoo.util.ref_dirs import get_reference_directions\n",
    "from pymoo.visualization.scatter import Scatter\n",
    "from pymoo.optimize import minimize\n",
    "warnings.filterwarnings(\"ignore\")\n",
    "df=pd.read_excel('MD-15.xlsx')\n",
    "X=df.iloc[:,1:8]\n",
    "y=df.iloc[:,8]"
   ]
  },
  {
   "cell_type": "code",
   "execution_count": null,
   "id": "2534c486-e655-4e50-9dba-6e57e70ebfb8",
   "metadata": {},
   "outputs": [],
   "source": [
    "# Grid search for training GBR model"
   ]
  },
  {
   "cell_type": "code",
   "execution_count": null,
   "id": "cf3996be-8d3c-4dda-9b2f-963a176b1f83",
   "metadata": {},
   "outputs": [],
   "source": [
    "best_score =0\n",
    "list_1=np.arange(0,21,1)#   \n",
    "list_2=np.arange(1,20,1)#  \n",
    "list_3=np.arange(1,200,5) \n",
    "for a in list_1:\n",
    "    for b in list_2:\n",
    "        for c in list_3:\n",
    "            X_train,X_test= train_test_split(X, test_size=0.2,random_state = 0)\n",
    "            y_train,y_test = train_test_split(y, test_size=0.2,random_state = 0)\n",
    "            sc = StandardScaler()\n",
    "            X_train_std = sc.fit_transform(X_train)\n",
    "            X_test_std = sc.transform(X_test)\n",
    "            gbrt = GradientBoostingRegressor(random_state=a,n_estimators=c,max_depth=b)\n",
    "            gbrt.fit(X_train_std, y_train)\n",
    "            y_train_pred_gbrt = gbrt.predict(X_train_std)  \n",
    "            y_test_pred_gbrt =gbrt.predict(X_test_std)\n",
    "            score=r2_score(y_test,y_test_pred_gbrt)\n",
    "            if score > best_score:\n",
    "                best_score = score\n",
    "                best_parameters = {'random_state': a, 'learning_rate': b,'n_estimators': c}\n",
    "print(\"Best score: {:.5f}\".format(best_score))\n",
    "print(\"Best parameters: {}\".format(best_parameters))  "
   ]
  },
  {
   "cell_type": "code",
   "execution_count": null,
   "id": "27c9acaa-6291-49af-b28f-80f0a49dedf5",
   "metadata": {},
   "outputs": [],
   "source": [
    "#Feature importance analysis of the GBR model"
   ]
  },
  {
   "cell_type": "code",
   "execution_count": null,
   "id": "13e01d45-32b6-452f-b422-9caf9349422d",
   "metadata": {},
   "outputs": [],
   "source": [
    "X_train,X_test= train_test_split(X, test_size=0.2,random_state =0)\n",
    "y_train,y_test = train_test_split(y, test_size=0.2,random_state =0)\n",
    "from sklearn.preprocessing  import StandardScaler\n",
    "sc = StandardScaler()\n",
    "X_train_std = sc.fit_transform(X_train)\n",
    "X_test_std = sc.transform(X_test)\n",
    "from sklearn.ensemble import GradientBoostingRegressor\n",
    "gbrt = GradientBoostingRegressor(random_state=0,n_estimators=46,max_depth=4,max_features=8)\n",
    "gbrt.fit(X_train_std, y_train)\n",
    "feature_importances = gbrt.feature_importances_\n",
    "feature_importance_df = pd.DataFrame({\n",
    "    'Importance': feature_importances\n",
    "})\n",
    "feature_importance_df = feature_importance_df.sort_values(by='Importance', ascending=False)"
   ]
  },
  {
   "cell_type": "code",
   "execution_count": null,
   "id": "edce81a3-8d80-4c19-b11b-a8b358abfa22",
   "metadata": {},
   "outputs": [],
   "source": [
    "#Leave-one-out cross-validation"
   ]
  },
  {
   "cell_type": "code",
   "execution_count": null,
   "id": "352ab4ad-d866-4e3e-a441-dc2ac01bdd88",
   "metadata": {},
   "outputs": [],
   "source": [
    "gbrt = GradientBoostingRegressor()\n",
    "loo = LeaveOneOut()\n",
    "mae_list = []\n",
    "for train_index, test_index in loo.split(X):\n",
    "    X_train, X_test = X.iloc[train_index], X.iloc[test_index]\n",
    "    y_train, y_test = y.iloc[train_index], y.iloc[test_index]\n",
    "    gbrt.fit(X_train, y_train)\n",
    "    y_pred = gbrt.predict(X_test)\n",
    "    mae = mean_absolute_error(y_test, y_pred)\n",
    "    mae_list.append(mae)\n",
    "mae_mean = np.mean(mae_list)\n",
    "mae_variance = np.var(mae_list)"
   ]
  },
  {
   "cell_type": "code",
   "execution_count": null,
   "id": "0530cf6c-3167-4ed1-9b16-5d4fc6aa30b6",
   "metadata": {},
   "outputs": [],
   "source": [
    "# Multi-objective optimization"
   ]
  },
  {
   "cell_type": "code",
   "execution_count": null,
   "id": "ad0e4bf2-3842-411b-9f7d-0e42eb359347",
   "metadata": {},
   "outputs": [],
   "source": [
    "t1=joblib.load('gbri1.joblib')\n",
    "t2=joblib.load('gbri2.joblib')\n",
    "t3=joblib.load('gbri3.joblib')\n",
    "t4=joblib.load('gbri4.joblib')\n",
    "t5=joblib.load('gbri5.joblib')\n",
    "t6=joblib.load('gbri6.joblib')\n",
    "X=df.iloc[:,1:8]\n",
    "X=X.values\n",
    "sc = StandardScaler()\n",
    "X= sc.fit_transform(X)\n",
    "class MyProblem(ElementwiseProblem):\n",
    "    def __init__(self):\n",
    "        super().__init__(n_var=3, \n",
    "                         n_obj=6,  \n",
    "                         n_ieq_constr=2, \n",
    "                         xl=np.array([0.2, 0.3, 0]),  \n",
    "                         xu=np.array([0.4, 0.7, 0.5]))  \n",
    "    def _evaluate(self, x, out, *args, **kwargs):\n",
    "        g1 = x[0]+x[1]+x[2]-1\n",
    "        g2 = 0.5-(x[0]+x[1]+x[2])\n",
    "        a=1-x[0]-x[1]-x[2]       \n",
    "        x2=x[2]/(x[2]+a)\n",
    "        x3=x[1]/(x[0]+x[2]+a)\n",
    "        x1=x[0]/(x[1]+x[2]+a)\n",
    "        X=[x[0],x[1],x[2],a,x1,x2,x3]\n",
    "        x=np.array(X)\n",
    "        x=sc.transform(x.reshape(1, -1))\n",
    "        f1 = - 10**t1.predict(x.reshape(1, -1)) \n",
    "        f2 = - 10**t2.predict(x.reshape(1, -1))\n",
    "        f3 = - 10**t3.predict(x.reshape(1, -1))\n",
    "        f4 = - 100*t4.predict(x.reshape(1, -1))\n",
    "        f5 = - 100*t5.predict(x.reshape(1, -1))\n",
    "        f6 = - 100*t6.predict(x.reshape(1, -1))\n",
    "        out[\"F\"] = np.array([f1,f2,f3,f4,f5,f6])\n",
    "        out[\"G\"] = np.array([g1,g2])\n",
    "problem = MyProblem()\n",
    "ref_dirs = get_reference_directions(\"das-dennis\",6, n_partitions=6)\n",
    "termination = get_termination(\"n_gen\", 500)\n",
    "algorithm = NSGA3(ref_dirs=ref_dirs,pop_size=500, \n",
    "                  n_offsprings=1000,\n",
    "                  sampling=FloatRandomSampling(),\n",
    "                  termination=termination,\n",
    "                  crossover=SBX(prob=0.8, eta=15),\n",
    "                  mutation=PM(eta=20),\n",
    "                  eliminate_duplicates=True)\n",
    "res = minimize(problem,\n",
    "               algorithm,\n",
    "               seed=1,\n",
    "               save_history=True,\n",
    "               verbose=True)\n",
    "X = res.X\n",
    "F = res.F"
   ]
  }
 ],
 "metadata": {
  "kernelspec": {
   "display_name": "pu",
   "language": "python",
   "name": "pu"
  },
  "language_info": {
   "codemirror_mode": {
    "name": "ipython",
    "version": 3
   },
   "file_extension": ".py",
   "mimetype": "text/x-python",
   "name": "python",
   "nbconvert_exporter": "python",
   "pygments_lexer": "ipython3",
   "version": "3.8.18"
  }
 },
 "nbformat": 4,
 "nbformat_minor": 5
}
